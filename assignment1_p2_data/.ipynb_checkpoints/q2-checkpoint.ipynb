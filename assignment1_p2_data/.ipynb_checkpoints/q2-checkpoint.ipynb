{
 "cells": [
  {
   "cell_type": "markdown",
   "id": "391ea643",
   "metadata": {},
   "source": [
    "## CS/INFO 5304 Assignment 1: Data Preparation <br />\n"
   ]
  },
  {
   "cell_type": "code",
   "execution_count": 1,
   "id": "274b9484",
   "metadata": {},
   "outputs": [],
   "source": [
    "import pandas as pd\n",
    "import matplotlib.pyplot as plt\n",
    "import numpy as np\n",
    "from scipy.stats import skew"
   ]
  },
  {
   "cell_type": "markdown",
   "id": "27463bfd",
   "metadata": {},
   "source": [
    "### Case 1: Actual screen time\n"
   ]
  },
  {
   "cell_type": "code",
   "execution_count": 2,
   "id": "c4b90305",
   "metadata": {},
   "outputs": [],
   "source": [
    "# Read data\n",
    "\n",
    "individual_path = \"Extrasensory_individual_data.p\"\n",
    "sensor_path = \"Extrasensory_sensor_data.p\"\n",
    "\n",
    "df = pd.read_pickle(individual_path)\n",
    "sensor = pd.read_pickle(sensor_path)"
   ]
  },
  {
   "cell_type": "code",
   "execution_count": 3,
   "id": "9c0e16a1",
   "metadata": {},
   "outputs": [
    {
     "name": "stdout",
     "output_type": "stream",
     "text": [
      "                                   uuid  age gender   system  hours_in_study  \\\n",
      "0  3600D531-0C55-44A7-AE95-A7A38519464E   24   male  Android              86   \n",
      "\n",
      "   perceived_average_screen_time  actual_average_screen_time  \n",
      "0                            4.3                        5.18  \n"
     ]
    }
   ],
   "source": [
    "print(df.head(1))\n",
    "# print(sensor_df.keys())"
   ]
  },
  {
   "cell_type": "code",
   "execution_count": 4,
   "id": "6bb5d403",
   "metadata": {},
   "outputs": [
    {
     "name": "stdout",
     "output_type": "stream",
     "text": [
      "0    5.18\n",
      "1    2.31\n",
      "2   -1.00\n",
      "3    4.75\n",
      "4    1.55\n",
      "5    3.69\n",
      "6    4.72\n",
      "7   -1.00\n",
      "8    3.01\n",
      "9    3.32\n",
      "Name: actual_average_screen_time, dtype: float64\n"
     ]
    }
   ],
   "source": [
    "## Case 1 Problem A code (and optional graph)\n",
    "print(df[\"actual_average_screen_time\"][:10])"
   ]
  },
  {
   "cell_type": "markdown",
   "id": "d32dc81b",
   "metadata": {},
   "source": [
    "#### Writeup Answer to Problem A: \n",
    "How are missing values represented for this feature?\n",
    "\n",
    "ANS: The missing values are represented as `-1`."
   ]
  },
  {
   "cell_type": "code",
   "execution_count": 5,
   "id": "4dc34a38",
   "metadata": {},
   "outputs": [
    {
     "data": {
      "image/png": "[encoded data removed]",
      "text/plain": [
       "<Figure size 432x288 with 1 Axes>"
      ]
     },
     "metadata": {
      "needs_background": "light"
     },
     "output_type": "display_data"
    }
   ],
   "source": [
    "## Case 1 Problem B code and graph\n",
    "screen_time = list(df[\"actual_average_screen_time\"])\n",
    "screen_time = [time for time in screen_time if time != -1.0]\n",
    "\n",
    "def plot_histogram(arr, bins, title):\n",
    "    plt.hist(arr, bins = bins)\n",
    "    plt.title(title)\n",
    "    plt.show()\n",
    "\n",
    "plot_histogram(screen_time, 20 ,title = \"actual_average_screen_time histogram\")"
   ]
  },
  {
   "cell_type": "code",
   "execution_count": 110,
   "id": "3294bf5f",
   "metadata": {},
   "outputs": [
    {
     "name": "stdout",
     "output_type": "stream",
     "text": [
      "There are  2  outliers\n"
     ]
    },
    {
     "data": {
      "image/png": "[encoded data removed]",
      "text/plain": [
       "<Figure size 432x288 with 1 Axes>"
      ]
     },
     "metadata": {
      "needs_background": "light"
     },
     "output_type": "display_data"
    }
   ],
   "source": [
    "# B) a)\n",
    "# Does it have outliers?If so, how many?\n",
    "def remove_outlier_IQR(df):\n",
    "    Q1 = df.quantile(0.25)\n",
    "    Q3 = df.quantile(0.75)\n",
    "    IQR = Q3 - Q1\n",
    "    df_final = df[(( df >= (Q1-1.5*IQR) ) & ( df <= (Q3+1.5*IQR)) )].dropna()\n",
    "#     print(df_final)\n",
    "    return df_final\n",
    "\n",
    "screen_time_df = pd.DataFrame(screen_time)\n",
    "removed_screen_time_df = remove_outlier_IQR(screen_time_df)\n",
    "removed_screen_time = list(removed_screen_time_df[0])\n",
    "\n",
    "outliers = len(screen_time) - len(removed_screen_time)\n",
    "print(\"There are \", outliers, \" outliers\")\n",
    "\n",
    "plot_histogram(removed_screen_time, 20, \"actual_average_screen_time histogram removed outliers\")\n"
   ]
  },
  {
   "cell_type": "code",
   "execution_count": 9,
   "id": "a9193ae5",
   "metadata": {},
   "outputs": [
    {
     "name": "stdout",
     "output_type": "stream",
     "text": [
      "-0.03229222919154047\n"
     ]
    },
    {
     "data": {
      "image/png": "[encoded data removed]",
      "text/plain": [
       "<Figure size 432x288 with 1 Axes>"
      ]
     },
     "metadata": {
      "needs_background": "light"
     },
     "output_type": "display_data"
    }
   ],
   "source": [
    "# Skew\n",
    "\n",
    "\n",
    "\n",
    "def skew_plot(df, bins = 20):\n",
    "    mean = df[0].mean()\n",
    "    median = df[0].median()\n",
    "    mode = df[0].mode().values[0]\n",
    "    arr = list(df[0])\n",
    "    \n",
    "    plt.hist(arr, bins = bins)\n",
    "    print(df.skew().values[0])\n",
    "    plt.axvline(mean, color='r', linestyle='--')\n",
    "    plt.axvline(median, color='g', linestyle='--')\n",
    "    plt.axvline(mode, color='b', linestyle='--')\n",
    "    plt.legend({'Mean':mean,'Median':median,'Mode':mode})\n",
    "    plt.title(\"Skewness\")\n",
    "    plt.show()\n",
    "    \n",
    "    \n",
    "skew_plot(removed_screen_time_df)\n"
   ]
  },
  {
   "cell_type": "markdown",
   "id": "1230f9f5",
   "metadata": {},
   "source": [
    "#### Writeup Answer to Problem B: \n",
    " Does it have outliers?If so, how many?\n",
    " Is it skewed? If so, is it left skewed or right skewed? What’s the skewness? \n",
    " \n",
    " 1. Distribution: The histogram illustrates the distribution of average screen time without missing data (-1). It shows that most of the participants have about 4 hours on their screens.\n",
    " \n",
    " 2. Outliers: There are 2 outliers.\n",
    " \n",
    " 3. The distribution is fairly symmetrical. Because the skewness is -0.03229222919154047, not very large number. Just a little bit left skewed.\n",
    " "
   ]
  },
  {
   "cell_type": "code",
   "execution_count": 78,
   "id": "e0692080",
   "metadata": {},
   "outputs": [
    {
     "name": "stdout",
     "output_type": "stream",
     "text": [
      "mean :  3.972857142857143  median :  3.715  random :  4.13\n"
     ]
    },
    {
     "data": {
      "image/png": "[encoded data removed]",
      "text/plain": [
       "<Figure size 720x216 with 3 Axes>"
      ]
     },
     "metadata": {
      "needs_background": "light"
     },
     "output_type": "display_data"
    }
   ],
   "source": [
    "## Case 1 Problem C code and graph\n",
    "\n",
    "\n",
    "raw_screen_time_df = df[[\"actual_average_screen_time\"]]\n",
    "raw_screen_time_df = raw_screen_time_df.replace(-1.0, np.nan)\n",
    "\n",
    "def get_num():\n",
    "    mean = raw_screen_time_df[\"actual_average_screen_time\"].mean()\n",
    "    median = raw_screen_time_df[\"actual_average_screen_time\"].median()\n",
    "    random = screen_time_df[0].sample().values[0]\n",
    "    print(\"mean : \", mean, \" median : \", median , \" random : \" , random)\n",
    "    return { \"mean\": mean, \"median\":median , \"random = \" + str(random):random }\n",
    "\n",
    "# fill in different values\n",
    "\n",
    "def fill_in_num(num, df):\n",
    "    df = df.fillna(num)\n",
    "    arr = list(df[\"actual_average_screen_time\"])\n",
    "    return arr\n",
    "\n",
    "def plot_3(df):\n",
    "    nums = get_num()\n",
    "    origin = list(df[\"actual_average_screen_time\"])\n",
    "    origin = [time for time in origin if time != -1.0]\n",
    "    i = 1\n",
    "    plt.figure(figsize = (10,3))\n",
    "    for title, num in nums.items():\n",
    "        plt.subplot(1,3,i)\n",
    "        i += 1\n",
    "        now = fill_in_num(num, df)\n",
    "        plt.hist(origin, bins=30,  alpha = 0.5, label = \"Origin\")\n",
    "        plt.hist(now, bins=30, alpha = 0.5, label = title)\n",
    "        plt.legend()\n",
    "        plt.title(\"Fill in with \" + title)\n",
    "    plt.show()\n",
    "plot_3(raw_screen_time_df)"
   ]
  },
  {
   "cell_type": "markdown",
   "id": "be154018",
   "metadata": {},
   "source": [
    "#### Writeup Answer to Problem C: \n",
    "How did you choose the random value from method 3)? \n",
    "\n",
    "- Because the original array contains -1.0 and NaN, so I choose the random value from the list which has already dropped these missing values.\n",
    "\n",
    "How do the distributions look like after you implement the three filling methods? (Compare them)\n",
    "\n",
    "- The figure above overlays the three different methods on the original one individually.\n",
    "\n",
    "- Mean: The bin count around mean value will rise up a lot.\n",
    "- Median: The bin count around median will rise up a lot.\n",
    "- Random: The bin count around random value will rise up a lot.\n"
   ]
  },
  {
   "cell_type": "code",
   "execution_count": 100,
   "id": "d8eb180e",
   "metadata": {},
   "outputs": [
    {
     "name": "stdout",
     "output_type": "stream",
     "text": [
      "mean :  3.972857142857143  median :  3.715  random :  4.22\n",
      "mean :  0.8967886176392907\n",
      "median :  0.9497352755442221\n",
      "random = 4.22 :  0.8465708370218106\n"
     ]
    }
   ],
   "source": [
    "## Case 1 Problem D code and graph\n",
    "from scipy.stats import ttest_ind\n",
    "\n",
    "\n",
    "\n",
    "def t_test(df):\n",
    "    mean = 3.75\n",
    "    std = 1.25\n",
    "    samples = np.random.normal(mean, std, df.shape[0])\n",
    "    nums = get_num()\n",
    "    for title, num in nums.items():\n",
    "        now = fill_in_num(num, df)\n",
    "        _ , p = ttest_ind(now, samples)\n",
    "        print(title + \" : \", p)\n",
    "        \n",
    "    \n",
    "t_test(raw_screen_time_df)"
   ]
  },
  {
   "cell_type": "markdown",
   "id": "a8b633b9",
   "metadata": {},
   "source": [
    "#### Answer to Problem D: \n",
    "Report the three p-values. Which one of the filling methods reconstruct this feature to be closest to the research distribution? Why do you think this is the case?\n",
    "\n",
    "- ANS:\n",
    "mean :  0.8967886176392907\n",
    "median :  0.9497352755442221\n",
    "random = 4.22 :  0.8465708370218106\n",
    "- In this case, the median filling is the most powerful method to portrate the distribution of the real world screen time. Because the greater p value get, the greater chance that this case will happen in real world."
   ]
  },
  {
   "cell_type": "markdown",
   "id": "303a518b",
   "metadata": {},
   "source": [
    "### Case 2: Perceived average screen time"
   ]
  },
  {
   "cell_type": "code",
   "execution_count": 103,
   "id": "21571972",
   "metadata": {},
   "outputs": [
    {
     "data": {
      "image/png": "[encoded data removed]",
      "text/plain": [
       "<Figure size 432x288 with 1 Axes>"
      ]
     },
     "metadata": {
      "needs_background": "light"
     },
     "output_type": "display_data"
    }
   ],
   "source": [
    "## Case 2 Problem A code and histogram\n",
    "perceived_time = df[\"perceived_average_screen_time\"]\n",
    "perceived_time = [time for time in perceived_time if time != -1.0]\n",
    "plot_histogram(perceived_time, 20, \"perceived_average_screen_time\")"
   ]
  },
  {
   "cell_type": "code",
   "execution_count": 111,
   "id": "7c1f58bc",
   "metadata": {},
   "outputs": [
    {
     "name": "stdout",
     "output_type": "stream",
     "text": [
      "Outliers :  2\n",
      "-0.11839534824092446\n"
     ]
    },
    {
     "data": {
      "image/png": "[encoded data removed]",
      "text/plain": [
       "<Figure size 432x288 with 1 Axes>"
      ]
     },
     "metadata": {
      "needs_background": "light"
     },
     "output_type": "display_data"
    }
   ],
   "source": [
    "# outliers\n",
    "perceived_time_df = pd.DataFrame(perceived_time)\n",
    "removed_perceived_time_df = remove_outlier_IQR(perceived_time_df)\n",
    "removed_perceived_time = list(removed_perceived_time_df[0])\n",
    "outliers = len(perceived_time) - len(removed_perceived_time)\n",
    "print(\"Outliers : \" , outliers)\n",
    "# plot_histogram(removed_perceived_time, 20, \"perceived_average_screen_time\")\n",
    "\n",
    "\n",
    "# Skewness\n",
    "skew_plot(removed_perceived_time_df)"
   ]
  },
  {
   "cell_type": "markdown",
   "id": "d16e402a",
   "metadata": {},
   "source": [
    "#### Writeup Answer to Problem B: \n",
    " Does it have outliers?If so, how many? \n",
    " Is it skewed? If so, is it left skewed or right skewed? What’s the skewness? \n",
    " - No outliers\n",
    " - Not Skewed. The skewness is -0.11839534824092446 which is within (-0.5,0). This means that the distribution is fairly symmetrical.\n"
   ]
  },
  {
   "cell_type": "code",
   "execution_count": 136,
   "id": "b2c9df5d",
   "metadata": {},
   "outputs": [
    {
     "name": "stdout",
     "output_type": "stream",
     "text": [
      "mean :  3.972857142857143  std :  1.7595802332950317\n",
      "    actual_average_screen_time\n",
      "15                       10.78\n",
      "32                        6.06\n",
      "44                       11.63\n",
      "45                        5.94\n"
     ]
    }
   ],
   "source": [
    "## Case 2 Problem B code\n",
    "screen_time_df = df[[\"actual_average_screen_time\"]]\n",
    "screen_time_df = screen_time_df.replace(-1.0 , np.nan)\n",
    "mean, std = screen_time_df[\"actual_average_screen_time\"].mean(), screen_time_df[\"actual_average_screen_time\"].std()\n",
    "print(\"mean : \", mean , \" std : \" , std)\n",
    "intense_user_time = screen_time_df[( screen_time_df[\"actual_average_screen_time\"] > mean + std )]\n",
    "print(intense_user_time)"
   ]
  },
  {
   "cell_type": "markdown",
   "id": "5ec6e026",
   "metadata": {},
   "source": [
    "How many of them are intense phone users?\n",
    "- ANS: There are 4 intense phone users"
   ]
  },
  {
   "cell_type": "code",
   "execution_count": 137,
   "id": "26e9758b",
   "metadata": {},
   "outputs": [
    {
     "name": "stdout",
     "output_type": "stream",
     "text": [
      "p :  0.09572766187792268\n"
     ]
    }
   ],
   "source": [
    "## Case 2 Problem C code and graph\n",
    "\n",
    "#  A) missing perceived_average_screen_time\n",
    "missing_perceived_time = df[[\"perceived_average_screen_time\"]]\n",
    "missing_perceived_time = pd.DataFrame(missing_perceived_time[\"perceived_average_screen_time\"] == -1.0)\n",
    "# print(missing_perceived_time)\n",
    "\n",
    "# B)\n",
    "intense_df = pd.DataFrame(screen_time_df[\"actual_average_screen_time\"] > mean + std)\n",
    "# print(intense_df)\n",
    "\n",
    "from scipy.stats import chi2_contingency\n",
    "contigency= pd.crosstab(missing_perceived_time[\"perceived_average_screen_time\"], intense_df[\"actual_average_screen_time\"])\n",
    "c, p, dof, expected = chi2_contingency(contigency)\n",
    "\n",
    "print(\"p : \", p)"
   ]
  },
  {
   "cell_type": "markdown",
   "id": "497b1f4a",
   "metadata": {},
   "source": [
    "What is the p-value? Do you think they are correlated? What does this mean? Do you think this feature is MAR or MNAR? \n",
    "\n",
    "- P value: 0.09572766187792268\n",
    "- I think they may be correlated. Because when P value is larger than 0.05, the null hypothesis should not be rejected.\n",
    "- I think this feature is MNAR(missing not at Random)."
   ]
  },
  {
   "cell_type": "markdown",
   "id": "ad51b7e8",
   "metadata": {},
   "source": [
    "### Case 3: Location"
   ]
  },
  {
   "cell_type": "code",
   "execution_count": 148,
   "id": "9a8829ea",
   "metadata": {},
   "outputs": [
    {
     "data": {
      "text/html": [
       "<div>\n",
       "<style scoped>\n",
       "    .dataframe tbody tr th:only-of-type {\n",
       "        vertical-align: middle;\n",
       "    }\n",
       "\n",
       "    .dataframe tbody tr th {\n",
       "        vertical-align: top;\n",
       "    }\n",
       "\n",
       "    .dataframe thead th {\n",
       "        text-align: right;\n",
       "    }\n",
       "</style>\n",
       "<table border=\"1\" class=\"dataframe\">\n",
       "  <thead>\n",
       "    <tr style=\"text-align: right;\">\n",
       "      <th></th>\n",
       "      <th>uuid</th>\n",
       "      <th>age</th>\n",
       "      <th>gender</th>\n",
       "      <th>system</th>\n",
       "      <th>hours_in_study</th>\n",
       "      <th>perceived_average_screen_time</th>\n",
       "      <th>actual_average_screen_time</th>\n",
       "    </tr>\n",
       "  </thead>\n",
       "  <tbody>\n",
       "    <tr>\n",
       "      <th>0</th>\n",
       "      <td>3600D531-0C55-44A7-AE95-A7A38519464E</td>\n",
       "      <td>24</td>\n",
       "      <td>male</td>\n",
       "      <td>Android</td>\n",
       "      <td>86</td>\n",
       "      <td>4.3</td>\n",
       "      <td>5.18</td>\n",
       "    </tr>\n",
       "    <tr>\n",
       "      <th>1</th>\n",
       "      <td>59EEFAE0-DEB0-4FFF-9250-54D2A03D0CF2</td>\n",
       "      <td>31</td>\n",
       "      <td>female</td>\n",
       "      <td>Android</td>\n",
       "      <td>125</td>\n",
       "      <td>4.2</td>\n",
       "      <td>2.31</td>\n",
       "    </tr>\n",
       "    <tr>\n",
       "      <th>2</th>\n",
       "      <td>CF722AA9-2533-4E51-9FEB-9EAC84EE9AAC</td>\n",
       "      <td>37</td>\n",
       "      <td>male</td>\n",
       "      <td>iOS</td>\n",
       "      <td>60</td>\n",
       "      <td>3.9</td>\n",
       "      <td>-1.00</td>\n",
       "    </tr>\n",
       "    <tr>\n",
       "      <th>3</th>\n",
       "      <td>5152A2DF-FAF3-4BA8-9CA9-E66B32671A53</td>\n",
       "      <td>22</td>\n",
       "      <td>male</td>\n",
       "      <td>iOS</td>\n",
       "      <td>110</td>\n",
       "      <td>-1.0</td>\n",
       "      <td>4.75</td>\n",
       "    </tr>\n",
       "    <tr>\n",
       "      <th>4</th>\n",
       "      <td>136562B6-95B2-483D-88DC-065F28409FD2</td>\n",
       "      <td>19</td>\n",
       "      <td>male</td>\n",
       "      <td>Android</td>\n",
       "      <td>103</td>\n",
       "      <td>1.1</td>\n",
       "      <td>1.55</td>\n",
       "    </tr>\n",
       "  </tbody>\n",
       "</table>\n",
       "</div>"
      ],
      "text/plain": [
       "                                   uuid  age  gender   system  hours_in_study  \\\n",
       "0  3600D531-0C55-44A7-AE95-A7A38519464E   24    male  Android              86   \n",
       "1  59EEFAE0-DEB0-4FFF-9250-54D2A03D0CF2   31  female  Android             125   \n",
       "2  CF722AA9-2533-4E51-9FEB-9EAC84EE9AAC   37    male      iOS              60   \n",
       "3  5152A2DF-FAF3-4BA8-9CA9-E66B32671A53   22    male      iOS             110   \n",
       "4  136562B6-95B2-483D-88DC-065F28409FD2   19    male  Android             103   \n",
       "\n",
       "   perceived_average_screen_time  actual_average_screen_time  \n",
       "0                            4.3                        5.18  \n",
       "1                            4.2                        2.31  \n",
       "2                            3.9                       -1.00  \n",
       "3                           -1.0                        4.75  \n",
       "4                            1.1                        1.55  "
      ]
     },
     "execution_count": 148,
     "metadata": {},
     "output_type": "execute_result"
    }
   ],
   "source": [
    "df.head()"
   ]
  },
  {
   "cell_type": "code",
   "execution_count": 161,
   "id": "cd5cbe0f",
   "metadata": {},
   "outputs": [
    {
     "name": "stdout",
     "output_type": "stream",
     "text": [
      "   location:raw_latitude  location:raw_longitude  raw_acc:3d:mean_x  \\\n",
      "0              32.882483             -117.234601           0.022972   \n",
      "\n",
      "   raw_acc:3d:mean_y  raw_acc:3d:mean_z  discrete:app_state:is_active  \\\n",
      "0          -0.002678          -1.002311                           0.0   \n",
      "\n",
      "   discrete:app_state:is_inactive  discrete:app_state:is_background  \\\n",
      "0                             1.0                               0.0   \n",
      "\n",
      "   discrete:app_state:missing  lf_measurements:battery_level  \n",
      "0                         0.0                           0.49  \n"
     ]
    }
   ],
   "source": [
    "print(sensor[\"3600D531-0C55-44A7-AE95-A7A38519464E\"].head(1))"
   ]
  },
  {
   "cell_type": "code",
   "execution_count": 189,
   "id": "9f197917",
   "metadata": {},
   "outputs": [
    {
     "name": "stdout",
     "output_type": "stream",
     "text": [
      "['3600D531-0C55-44A7-AE95-A7A38519464E', '59EEFAE0-DEB0-4FFF-9250-54D2A03D0CF2', '81536B0A-8DBF-4D8A-AC24-9543E2E4C8E0', '40E170A7-607B-4578-AF04-F021C3B0384A', '1DBB0F6F-1F81-4A50-9DF4-CD62ACFA4842', '33A85C34-CFE4-4732-9E73-0A7AC861B27A']\n",
      "There are 6 users who turn off their location due to low battery.\n"
     ]
    }
   ],
   "source": [
    "## Case 3 Problem A code (graph)\n",
    "\n",
    "import math\n",
    "\n",
    "def identify_user(user):\n",
    "    # dataframe\n",
    "    # location:raw_latitude\n",
    "    user = user[[\"location:raw_latitude\", \"lf_measurements:battery_level\"]]\n",
    "    user = user.values.tolist()\n",
    "    # identify behavior\n",
    "    for i in range(len(user) - 1):\n",
    "        if not math.isnan(user[i][0]) and user[i][1] >= 0.15 and math.isnan(user[i+1][0]) and user[i+1][1] < 0.15:\n",
    "            return True\n",
    "    return False\n",
    "\n",
    "turn_off_user = [user_id for user_id, user in sensor.items() if identify_user(user)]\n",
    "print(turn_off_user)\n",
    "print(\"There are \" + str(len(turn_off_user)) + \" users who turn off their location due to low battery.\")\n"
   ]
  },
  {
   "cell_type": "code",
   "execution_count": 197,
   "id": "041f5b30",
   "metadata": {},
   "outputs": [
    {
     "name": "stdout",
     "output_type": "stream",
     "text": [
      "For user :  3600D531-0C55-44A7-AE95-A7A38519464E\n",
      "Lost minutes:  386\n",
      "For user :  59EEFAE0-DEB0-4FFF-9250-54D2A03D0CF2\n",
      "Lost minutes:  304\n",
      "For user :  81536B0A-8DBF-4D8A-AC24-9543E2E4C8E0\n",
      "Lost minutes:  3116\n",
      "For user :  40E170A7-607B-4578-AF04-F021C3B0384A\n",
      "Lost minutes:  868\n",
      "For user :  1DBB0F6F-1F81-4A50-9DF4-CD62ACFA4842\n",
      "Lost minutes:  2031\n",
      "For user :  33A85C34-CFE4-4732-9E73-0A7AC861B27A\n",
      "Lost minutes:  1784\n"
     ]
    }
   ],
   "source": [
    "# How many minitues?\n",
    "\n",
    "def minutes(user):\n",
    "    user = user[[\"location:raw_latitude\", \"lf_measurements:battery_level\"]]\n",
    "    user = user.values.tolist()\n",
    "    start = 0\n",
    "    end = len(user)\n",
    "    minute = 0\n",
    "    for i in range(len(user) - 1):\n",
    "        if start != 0 and not math.isnan(user[i][0]):\n",
    "            end = i\n",
    "            start = 0\n",
    "            minute += end - start\n",
    "        if not math.isnan(user[i][0]) and user[i][1] >= 0.15 and math.isnan(user[i+1][0]) and user[i+1][1] < 0.15:\n",
    "            start = i\n",
    "        \n",
    "    return end - start\n",
    "\n",
    "# print(sensor[\"81536B0A-8DBF-4D8A-AC24-9543E2E4C8E0\"])\n",
    "\n",
    "for user_id in turn_off_user:\n",
    "    user = sensor[user_id]\n",
    "    print(\"For user : \", user_id)\n",
    "    print(\"Lost minutes: \", minutes(user))\n"
   ]
  },
  {
   "cell_type": "markdown",
   "id": "818e75b8",
   "metadata": {},
   "source": [
    "explanation of implementation\n",
    "\n",
    "- Identification: I identified these users' behaviors by following the time sequences. If in time `i` the user's location is not `nan` and battery isn't below `0.15` and in time `i+1` the user's location is `nan` and battery is below `0.15`, this means that user may perform the behavior.\n",
    "- There will be 6 people who did this.\n",
    "- Minutes lost information is displayed above: I calculated by set the behavior as the start time and if the location keeps unavailible then count this kind of time.\n"
   ]
  },
  {
   "cell_type": "code",
   "execution_count": 203,
   "id": "605e94ed",
   "metadata": {},
   "outputs": [
    {
     "data": {
      "image/png": "[encoded data removed]",
      "text/plain": [
       "<Figure size 576x432 with 1 Axes>"
      ]
     },
     "metadata": {
      "needs_background": "light"
     },
     "output_type": "display_data"
    }
   ],
   "source": [
    "## Case 3 Problem B code and graph\n",
    "user_now = sensor[\"F50235E0-DD67-4F2A-B00B-1F31ADA998B9\"]\n",
    "user_now = user[\"location:raw_latitude\"]\n",
    "\n",
    "user_forward = user_now.fillna(method = \"ffill\")\n",
    "user_backward = user_now.fillna(method = \"bfill\")\n",
    "user_linear = user_now.interpolate()\n",
    "\n",
    "plt.figure(figsize = (8,6))\n",
    "plt.plot(user_now, label = \"Original\")\n",
    "plt.plot(user_forward, label = \"Forward\")\n",
    "plt.plot(user_backward, label = \"Backward\")\n",
    "plt.plot(user_linear, label = \"Linear Interpolation\")\n",
    "plt.title(\"3 Methods for filling in nan\")\n",
    "plt.legend()\n",
    "plt.show()\n"
   ]
  },
  {
   "cell_type": "markdown",
   "id": "7637d770",
   "metadata": {},
   "source": [
    "Compare the 4 traces. What do you see? If you were to use this dataset for further analysis, which filling method will you choose? \n",
    "\n",
    "- Discovery: There exisits slight difference in the gap between high and low platforms that happens in latitudes. This phenomenom is mostly clear around 2000 time stamps.\n",
    "- I would like to user linear interpolation method. Because when the location is lost, it doesn't mean that the user disappear at one place and reappear at another place where latitude is 15 higher than one night before. Thus, the users must have moved in between when the location data is missing. Linear interpolation is the best way to portrate this kind of movement that imagines that the users is moving at a certain speed."
   ]
  },
  {
   "cell_type": "code",
   "execution_count": null,
   "id": "c56e56d2",
   "metadata": {},
   "outputs": [],
   "source": []
  }
 ],
 "metadata": {
  "kernelspec": {
   "display_name": "Python [conda env:ds] *",
   "language": "python",
   "name": "conda-env-ds-py"
  },
  "language_info": {
   "codemirror_mode": {
    "name": "ipython",
    "version": 3
   },
   "file_extension": ".py",
   "mimetype": "text/x-python",
   "name": "python",
   "nbconvert_exporter": "python",
   "pygments_lexer": "ipython3",
   "version": "3.8.12"
  }
 },
 "nbformat": 4,
 "nbformat_minor": 5
}
